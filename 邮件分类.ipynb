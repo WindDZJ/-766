{
 "cells": [
  {
   "cell_type": "code",
   "execution_count": 1,
   "id": "bedcb26d",
   "metadata": {},
   "outputs": [],
   "source": [
    "import numpy as np\n",
    "import pandas as pd\n",
    "import sklearn.model_selection as ms\n",
    "import sklearn.linear_model as lm\n",
    "import sklearn.metrics as sm"
   ]
  },
  {
   "cell_type": "code",
   "execution_count": 2,
   "id": "e79d5a9b",
   "metadata": {},
   "outputs": [],
   "source": [
    "from sklearn.datasets import fetch_20newsgroups\n",
    "newsgroups_train = fetch_20newsgroups(subset='train')"
   ]
  },
  {
   "cell_type": "code",
   "execution_count": 3,
   "id": "2162f391",
   "metadata": {},
   "outputs": [],
   "source": [
    "categories = ['misc.forsale', 'rec.motorcycles','rec.sport.baseball',\n",
    "              'sci.crypt', 'sci.space']\n",
    "newsgroups_train = fetch_20newsgroups(subset='test',\n",
    "                                     categories=categories)"
   ]
  },
  {
   "cell_type": "code",
   "execution_count": 4,
   "id": "3d049e59",
   "metadata": {},
   "outputs": [
    {
     "data": {
      "text/plain": [
       "dict_keys(['data', 'filenames', 'target_names', 'target', 'DESCR'])"
      ]
     },
     "execution_count": 4,
     "metadata": {},
     "output_type": "execute_result"
    }
   ],
   "source": [
    "newsgroups_train.keys()"
   ]
  },
  {
   "cell_type": "code",
   "execution_count": 5,
   "id": "7e5ad1a0",
   "metadata": {},
   "outputs": [
    {
     "data": {
      "text/plain": [
       "(\"From: gaijin@ale.Japan.Sun.COM (John Little - Nihon Sun Repair Depot)\\nSubject: Personal Problems   (Was - Re: So, do any police ossifers read ...)\\nOrganization: Nihon Sun Microsystems - Atsugi Technical Centre - JAPAN.\\nLines: 12\\nNNTP-Posting-Host: ale.japan.sun.com\\n\\nIn article <ltgnt9INNfpq@earth.cs.utexas.edu> mcguire@cs.utexas.edu \\\\\\n(Tommy Marcus McGuire) writes:\\n%\\n% I can't haul my big dic. around on my bike...\\n%\\n\\n   ...or is it a boast?\\n\\n-- \\n   ------------------------------------------------------------------------\\n  | John Little  - gaijin@Japan.Sun.COM  - Sun Microsystems. Atsugi, Japan | \\n   ------------------------------------------------------------------------\\n\",\n",
       " 1,\n",
       " 'sci.space')"
      ]
     },
     "execution_count": 5,
     "metadata": {},
     "output_type": "execute_result"
    }
   ],
   "source": [
    "newsgroups_train.data[0], newsgroups_train.target[0], newsgroups_train.target_names[4]"
   ]
  },
  {
   "cell_type": "code",
   "execution_count": 6,
   "id": "7de61ebe",
   "metadata": {},
   "outputs": [],
   "source": [
    "\"\"\"\n",
    "整理输入集和输出集\n",
    "\"\"\"\n",
    "import sklearn.feature_extraction.text as ft\n",
    "cv = ft.CountVectorizer()\n",
    "bow = cv.fit_transform(newsgroups_train.data)\n",
    "tt = ft.TfidfTransformer()\n",
    "tfidf = tt.fit_transform(bow)"
   ]
  },
  {
   "cell_type": "code",
   "execution_count": 7,
   "id": "5a19f9ef",
   "metadata": {},
   "outputs": [
    {
     "data": {
      "text/plain": [
       "(1975, 28277)"
      ]
     },
     "execution_count": 7,
     "metadata": {},
     "output_type": "execute_result"
    }
   ],
   "source": [
    "tfidf.shape"
   ]
  },
  {
   "cell_type": "code",
   "execution_count": 8,
   "id": "10d0e5a3",
   "metadata": {},
   "outputs": [],
   "source": [
    "\"\"\"\n",
    "拆分数据集和训练集\n",
    "\"\"\"\n",
    "train_x, test_x, train_y, test_y = ms.train_test_split(\n",
    "    tfidf, newsgroups_train.target, test_size=0.1, random_state=7)"
   ]
  },
  {
   "cell_type": "code",
   "execution_count": 9,
   "id": "70d63147",
   "metadata": {},
   "outputs": [
    {
     "name": "stdout",
     "output_type": "stream",
     "text": [
      "0.9549367088607594\n"
     ]
    }
   ],
   "source": [
    "\"\"\"\n",
    "交叉验证\n",
    "\"\"\"\n",
    "model = lm.LogisticRegression()\n",
    "import sklearn.naive_bayes as nb\n",
    "model = nb.MultinomialNB()\n",
    "scores = ms.cross_val_score(model, tfidf, newsgroups_train.target, cv=5, scoring = \"accuracy\")\n",
    "print(scores.mean())"
   ]
  },
  {
   "cell_type": "code",
   "execution_count": 10,
   "id": "fe09c178",
   "metadata": {},
   "outputs": [
    {
     "name": "stdout",
     "output_type": "stream",
     "text": [
      "              precision    recall  f1-score   support\n",
      "\n",
      "           0       1.00      0.84      0.91        43\n",
      "           1       0.91      0.91      0.91        35\n",
      "           2       0.98      1.00      0.99        50\n",
      "           3       0.77      1.00      0.87        24\n",
      "           4       1.00      0.98      0.99        46\n",
      "\n",
      "    accuracy                           0.94       198\n",
      "   macro avg       0.93      0.95      0.94       198\n",
      "weighted avg       0.95      0.94      0.95       198\n",
      "\n"
     ]
    }
   ],
   "source": [
    "\"\"\"\n",
    "模型训练\n",
    "\"\"\"\n",
    "model.fit(train_x,train_y)\n",
    "\"\"\"\n",
    "测试模型、评估模型\n",
    "\"\"\"\n",
    "pred_test_y = model.predict(test_x)\n",
    "print(sm.classification_report(test_y, pred_test_y))"
   ]
  },
  {
   "cell_type": "code",
   "execution_count": 11,
   "id": "343e93a5",
   "metadata": {},
   "outputs": [],
   "source": [
    "\"\"\"\n",
    "GaussianNB(): 更适合高斯分布\n",
    "MultinomialNB(): 更适合多项式分布\n",
    "\"\"\"\n",
    "import sklearn.naive_bayes as nb\n",
    "model = nb.MultinomialNB()\n"
   ]
  }
 ],
 "metadata": {
  "kernelspec": {
   "display_name": "Python 3 (ipykernel)",
   "language": "python",
   "name": "python3"
  },
  "language_info": {
   "codemirror_mode": {
    "name": "ipython",
    "version": 3
   },
   "file_extension": ".py",
   "mimetype": "text/x-python",
   "name": "python",
   "nbconvert_exporter": "python",
   "pygments_lexer": "ipython3",
   "version": "3.8.8"
  }
 },
 "nbformat": 4,
 "nbformat_minor": 5
}
