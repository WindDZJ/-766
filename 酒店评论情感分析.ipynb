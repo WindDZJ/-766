{
 "cells": [
  {
   "cell_type": "code",
   "execution_count": 1,
   "id": "019f9545",
   "metadata": {},
   "outputs": [],
   "source": [
    "import numpy as np\n",
    "import pandas as pd\n",
    "import sklearn.model_selection as ms\n",
    "import sklearn.metrics as sm\n",
    "import sklearn.naive_bayes as nb\n",
    "import jieba"
   ]
  },
  {
   "cell_type": "code",
   "execution_count": 2,
   "id": "be2d29fc",
   "metadata": {},
   "outputs": [
    {
     "data": {
      "text/html": [
       "<div>\n",
       "<style scoped>\n",
       "    .dataframe tbody tr th:only-of-type {\n",
       "        vertical-align: middle;\n",
       "    }\n",
       "\n",
       "    .dataframe tbody tr th {\n",
       "        vertical-align: top;\n",
       "    }\n",
       "\n",
       "    .dataframe thead th {\n",
       "        text-align: right;\n",
       "    }\n",
       "</style>\n",
       "<table border=\"1\" class=\"dataframe\">\n",
       "  <thead>\n",
       "    <tr style=\"text-align: right;\">\n",
       "      <th></th>\n",
       "      <th>comment</th>\n",
       "      <th>label</th>\n",
       "    </tr>\n",
       "  </thead>\n",
       "  <tbody>\n",
       "    <tr>\n",
       "      <th>0</th>\n",
       "      <td>距离川沙公路较近,但是公交指示不对,如果是\"蔡陆线\"的话,会非常麻烦.建议用别的路线.房间较...</td>\n",
       "      <td>0</td>\n",
       "    </tr>\n",
       "    <tr>\n",
       "      <th>1</th>\n",
       "      <td>商务大床房，房间很大，床有2M宽，整体感觉经济实惠不错!</td>\n",
       "      <td>0</td>\n",
       "    </tr>\n",
       "    <tr>\n",
       "      <th>2</th>\n",
       "      <td>早餐太差，无论去多少人，那边也不加食品的。酒店应该重视一下这个问题了。房间本身很好。</td>\n",
       "      <td>0</td>\n",
       "    </tr>\n",
       "    <tr>\n",
       "      <th>3</th>\n",
       "      <td>宾馆在小街道上，不大好找，但还好北京热心同胞很多~宾馆设施跟介绍的差不多，房间很小，确实挺小...</td>\n",
       "      <td>0</td>\n",
       "    </tr>\n",
       "    <tr>\n",
       "      <th>4</th>\n",
       "      <td>CBD中心,周围没什么店铺,说5星有点勉强.不知道为什么卫生间没有电吹风</td>\n",
       "      <td>0</td>\n",
       "    </tr>\n",
       "  </tbody>\n",
       "</table>\n",
       "</div>"
      ],
      "text/plain": [
       "                                             comment  label\n",
       "0  距离川沙公路较近,但是公交指示不对,如果是\"蔡陆线\"的话,会非常麻烦.建议用别的路线.房间较...      0\n",
       "1                       商务大床房，房间很大，床有2M宽，整体感觉经济实惠不错!      0\n",
       "2         早餐太差，无论去多少人，那边也不加食品的。酒店应该重视一下这个问题了。房间本身很好。      0\n",
       "3  宾馆在小街道上，不大好找，但还好北京热心同胞很多~宾馆设施跟介绍的差不多，房间很小，确实挺小...      0\n",
       "4               CBD中心,周围没什么店铺,说5星有点勉强.不知道为什么卫生间没有电吹风      0"
      ]
     },
     "execution_count": 2,
     "metadata": {},
     "output_type": "execute_result"
    }
   ],
   "source": [
    "pos = pd.read_csv(\"pos.csv\")\n",
    "pos['label'] = 0\n",
    "pos.head()"
   ]
  },
  {
   "cell_type": "code",
   "execution_count": 3,
   "id": "2f5d2bda",
   "metadata": {},
   "outputs": [
    {
     "data": {
      "text/html": [
       "<div>\n",
       "<style scoped>\n",
       "    .dataframe tbody tr th:only-of-type {\n",
       "        vertical-align: middle;\n",
       "    }\n",
       "\n",
       "    .dataframe tbody tr th {\n",
       "        vertical-align: top;\n",
       "    }\n",
       "\n",
       "    .dataframe thead th {\n",
       "        text-align: right;\n",
       "    }\n",
       "</style>\n",
       "<table border=\"1\" class=\"dataframe\">\n",
       "  <thead>\n",
       "    <tr style=\"text-align: right;\">\n",
       "      <th></th>\n",
       "      <th>comment</th>\n",
       "      <th>label</th>\n",
       "    </tr>\n",
       "  </thead>\n",
       "  <tbody>\n",
       "    <tr>\n",
       "      <th>0</th>\n",
       "      <td>标准间太差房间还不如3星的而且设施非常陈旧.建议酒店把老的标准间从新改善.</td>\n",
       "      <td>1</td>\n",
       "    </tr>\n",
       "    <tr>\n",
       "      <th>1</th>\n",
       "      <td>服务态度极其差，前台接待好象没有受过培训，连基本的礼貌都不懂，竟然同时接待几个客人；大堂副理...</td>\n",
       "      <td>1</td>\n",
       "    </tr>\n",
       "    <tr>\n",
       "      <th>2</th>\n",
       "      <td>地理位置还不错，到哪里都比较方便，但是服务不象是豪生集团管理的，比较差。下午睡了一觉并洗了一...</td>\n",
       "      <td>1</td>\n",
       "    </tr>\n",
       "    <tr>\n",
       "      <th>3</th>\n",
       "      <td>1。我住的是靠马路的标准间。房间内设施简陋，并且的房间玻璃窗户外还有一层幕墙玻璃，而且不能打...</td>\n",
       "      <td>1</td>\n",
       "    </tr>\n",
       "    <tr>\n",
       "      <th>4</th>\n",
       "      <td>我这次是第5次住在长春的雁鸣湖大酒店。昨晚夜里停电。深夜我睡着了。我的钱包被内贼进入我的房间...</td>\n",
       "      <td>1</td>\n",
       "    </tr>\n",
       "  </tbody>\n",
       "</table>\n",
       "</div>"
      ],
      "text/plain": [
       "                                             comment  label\n",
       "0              标准间太差房间还不如3星的而且设施非常陈旧.建议酒店把老的标准间从新改善.      1\n",
       "1  服务态度极其差，前台接待好象没有受过培训，连基本的礼貌都不懂，竟然同时接待几个客人；大堂副理...      1\n",
       "2  地理位置还不错，到哪里都比较方便，但是服务不象是豪生集团管理的，比较差。下午睡了一觉并洗了一...      1\n",
       "3  1。我住的是靠马路的标准间。房间内设施简陋，并且的房间玻璃窗户外还有一层幕墙玻璃，而且不能打...      1\n",
       "4  我这次是第5次住在长春的雁鸣湖大酒店。昨晚夜里停电。深夜我睡着了。我的钱包被内贼进入我的房间...      1"
      ]
     },
     "execution_count": 3,
     "metadata": {},
     "output_type": "execute_result"
    }
   ],
   "source": [
    "neg = pd.read_csv(\"neg.csv\")\n",
    "neg[\"label\"] = 1\n",
    "neg.head()"
   ]
  },
  {
   "cell_type": "code",
   "execution_count": 4,
   "id": "08885f26",
   "metadata": {},
   "outputs": [
    {
     "data": {
      "text/html": [
       "<div>\n",
       "<style scoped>\n",
       "    .dataframe tbody tr th:only-of-type {\n",
       "        vertical-align: middle;\n",
       "    }\n",
       "\n",
       "    .dataframe tbody tr th {\n",
       "        vertical-align: top;\n",
       "    }\n",
       "\n",
       "    .dataframe thead th {\n",
       "        text-align: right;\n",
       "    }\n",
       "</style>\n",
       "<table border=\"1\" class=\"dataframe\">\n",
       "  <thead>\n",
       "    <tr style=\"text-align: right;\">\n",
       "      <th></th>\n",
       "      <th>comment</th>\n",
       "      <th>label</th>\n",
       "    </tr>\n",
       "  </thead>\n",
       "  <tbody>\n",
       "    <tr>\n",
       "      <th>0</th>\n",
       "      <td>距离川沙公路较近,但是公交指示不对,如果是\"蔡陆线\"的话,会非常麻烦.建议用别的路线.房间较...</td>\n",
       "      <td>0</td>\n",
       "    </tr>\n",
       "    <tr>\n",
       "      <th>1</th>\n",
       "      <td>商务大床房，房间很大，床有2M宽，整体感觉经济实惠不错!</td>\n",
       "      <td>0</td>\n",
       "    </tr>\n",
       "    <tr>\n",
       "      <th>2</th>\n",
       "      <td>早餐太差，无论去多少人，那边也不加食品的。酒店应该重视一下这个问题了。房间本身很好。</td>\n",
       "      <td>0</td>\n",
       "    </tr>\n",
       "    <tr>\n",
       "      <th>3</th>\n",
       "      <td>宾馆在小街道上，不大好找，但还好北京热心同胞很多~宾馆设施跟介绍的差不多，房间很小，确实挺小...</td>\n",
       "      <td>0</td>\n",
       "    </tr>\n",
       "    <tr>\n",
       "      <th>4</th>\n",
       "      <td>CBD中心,周围没什么店铺,说5星有点勉强.不知道为什么卫生间没有电吹风</td>\n",
       "      <td>0</td>\n",
       "    </tr>\n",
       "    <tr>\n",
       "      <th>...</th>\n",
       "      <td>...</td>\n",
       "      <td>...</td>\n",
       "    </tr>\n",
       "    <tr>\n",
       "      <th>6895</th>\n",
       "      <td>前台服务较差，不为客户着想。房间有朋友来需要打扫，呼叫了两个小时也未打扫。房间下水道臭气熏天...</td>\n",
       "      <td>0</td>\n",
       "    </tr>\n",
       "    <tr>\n",
       "      <th>6896</th>\n",
       "      <td>1.设施一般,在北京不算好.2.服务还可以.3.出入还是比较方便的.</td>\n",
       "      <td>0</td>\n",
       "    </tr>\n",
       "    <tr>\n",
       "      <th>6897</th>\n",
       "      <td>房间干净舒适，是出差、旅游度假的理想之选。服务业很不错。</td>\n",
       "      <td>0</td>\n",
       "    </tr>\n",
       "    <tr>\n",
       "      <th>6898</th>\n",
       "      <td>总的来说可以，总是再这里住，公司客人还算满意。就是离公司超近，上楼上班下楼回家</td>\n",
       "      <td>0</td>\n",
       "    </tr>\n",
       "    <tr>\n",
       "      <th>6899</th>\n",
       "      <td>房间设施难以够得上五星级，服务还不错，有送水果。</td>\n",
       "      <td>0</td>\n",
       "    </tr>\n",
       "  </tbody>\n",
       "</table>\n",
       "<p>6900 rows × 2 columns</p>\n",
       "</div>"
      ],
      "text/plain": [
       "                                                comment  label\n",
       "0     距离川沙公路较近,但是公交指示不对,如果是\"蔡陆线\"的话,会非常麻烦.建议用别的路线.房间较...      0\n",
       "1                          商务大床房，房间很大，床有2M宽，整体感觉经济实惠不错!      0\n",
       "2            早餐太差，无论去多少人，那边也不加食品的。酒店应该重视一下这个问题了。房间本身很好。      0\n",
       "3     宾馆在小街道上，不大好找，但还好北京热心同胞很多~宾馆设施跟介绍的差不多，房间很小，确实挺小...      0\n",
       "4                  CBD中心,周围没什么店铺,说5星有点勉强.不知道为什么卫生间没有电吹风      0\n",
       "...                                                 ...    ...\n",
       "6895  前台服务较差，不为客户着想。房间有朋友来需要打扫，呼叫了两个小时也未打扫。房间下水道臭气熏天...      0\n",
       "6896                 1.设施一般,在北京不算好.2.服务还可以.3.出入还是比较方便的.      0\n",
       "6897                       房间干净舒适，是出差、旅游度假的理想之选。服务业很不错。      0\n",
       "6898            总的来说可以，总是再这里住，公司客人还算满意。就是离公司超近，上楼上班下楼回家      0\n",
       "6899                           房间设施难以够得上五星级，服务还不错，有送水果。      0\n",
       "\n",
       "[6900 rows x 2 columns]"
      ]
     },
     "execution_count": 4,
     "metadata": {},
     "output_type": "execute_result"
    }
   ],
   "source": [
    "frames = [pos, neg]\n",
    "data = pd.concat(frames)\n",
    "data[data[\"label\"]==0]"
   ]
  },
  {
   "cell_type": "code",
   "execution_count": 5,
   "id": "8612cc42",
   "metadata": {},
   "outputs": [],
   "source": [
    "data['label'].value_counts()\n",
    "data = data.tail((data['label']==1).sum()*2)"
   ]
  },
  {
   "cell_type": "code",
   "execution_count": null,
   "id": "21e3ae49",
   "metadata": {},
   "outputs": [],
   "source": []
  },
  {
   "cell_type": "code",
   "execution_count": 6,
   "id": "b356cbd0",
   "metadata": {},
   "outputs": [
    {
     "name": "stderr",
     "output_type": "stream",
     "text": [
      "Building prefix dict from the default dictionary ...\n",
      "Loading model from cache C:\\Users\\17801\\AppData\\Local\\Temp\\jieba.cache\n",
      "Loading model cost 0.726 seconds.\n",
      "Prefix dict has been built successfully.\n"
     ]
    },
    {
     "data": {
      "text/html": [
       "<div>\n",
       "<style scoped>\n",
       "    .dataframe tbody tr th:only-of-type {\n",
       "        vertical-align: middle;\n",
       "    }\n",
       "\n",
       "    .dataframe tbody tr th {\n",
       "        vertical-align: top;\n",
       "    }\n",
       "\n",
       "    .dataframe thead th {\n",
       "        text-align: right;\n",
       "    }\n",
       "</style>\n",
       "<table border=\"1\" class=\"dataframe\">\n",
       "  <thead>\n",
       "    <tr style=\"text-align: right;\">\n",
       "      <th></th>\n",
       "      <th>comment</th>\n",
       "      <th>label</th>\n",
       "      <th>new_review</th>\n",
       "    </tr>\n",
       "  </thead>\n",
       "  <tbody>\n",
       "    <tr>\n",
       "      <th>3901</th>\n",
       "      <td>临海木屋住了两晚，写点自己的感受吧。蜈支洲岛很不错，海水清澈，沙滩白细，景色很美，只是不适合...</td>\n",
       "      <td>0</td>\n",
       "      <td>临海 木屋 住 了 两晚 ， 写 点 自己 的 感受 吧 。 蜈支洲岛 很 不错 ， 海水 ...</td>\n",
       "    </tr>\n",
       "    <tr>\n",
       "      <th>3902</th>\n",
       "      <td>交通位置很好,服务设施还可以.但价格有点高,可能太原的酒店价格普通比较高的原因吧!</td>\n",
       "      <td>0</td>\n",
       "      <td>交通 位置 很 好 , 服务设施 还 可以 . 但 价格 有点 高 , 可能 太原 的 酒店...</td>\n",
       "    </tr>\n",
       "    <tr>\n",
       "      <th>3903</th>\n",
       "      <td>房间设施，布置都别致，很有特色，一进屋就不想出来啦，不过就像网友说的因为是木楼隔音很差，楼上...</td>\n",
       "      <td>0</td>\n",
       "      <td>房间 设施 ， 布置 都 别致 ， 很 有 特色 ， 一 进屋 就 不想 出来 啦 ， 不过...</td>\n",
       "    </tr>\n",
       "    <tr>\n",
       "      <th>3904</th>\n",
       "      <td>房间别致,有特色。环境一流。因为是木屋隔音很差。补充点评2008年2月29日：最好选2楼(木...</td>\n",
       "      <td>0</td>\n",
       "      <td>房间 别致 , 有 特色 。 环境 一流 。 因为 是 木屋 隔音 很差 。 补充 点评 2...</td>\n",
       "    </tr>\n",
       "    <tr>\n",
       "      <th>3905</th>\n",
       "      <td>观海木楼建筑别致,风景优美,环境幽静,绝佳的度假胜地,8628房间位置极好.只是每天不是24...</td>\n",
       "      <td>0</td>\n",
       "      <td>观海 木楼 建筑 别致 , 风景优美 , 环境 幽静 , 绝佳 的 度假胜地 , 8628 ...</td>\n",
       "    </tr>\n",
       "    <tr>\n",
       "      <th>...</th>\n",
       "      <td>...</td>\n",
       "      <td>...</td>\n",
       "      <td>...</td>\n",
       "    </tr>\n",
       "    <tr>\n",
       "      <th>2994</th>\n",
       "      <td>尼斯酒店的几大特点：噪音大、环境差、配置低、服务效率低。如：1、隔壁歌厅的声音闹至午夜3点许...</td>\n",
       "      <td>1</td>\n",
       "      <td>尼斯 酒店 的 几大 特点 ： 噪音 大 、 环境 差 、 配置 低 、 服务 效率 低 。...</td>\n",
       "    </tr>\n",
       "    <tr>\n",
       "      <th>2995</th>\n",
       "      <td>盐城来了很多次，第一次住盐阜宾馆，我的确很失望整个墙壁黑咕隆咚的，好像被烟熏过一样家具非常的...</td>\n",
       "      <td>1</td>\n",
       "      <td>盐城 来 了 很 多次 ， 第一次 住 盐阜 宾馆 ， 我 的确 很 失望 整个 墙壁 黑咕...</td>\n",
       "    </tr>\n",
       "    <tr>\n",
       "      <th>2996</th>\n",
       "      <td>看照片觉得还挺不错的，又是4星级的，但入住以后除了后悔没有别的，房间挺大但空空的，早餐是有但...</td>\n",
       "      <td>1</td>\n",
       "      <td>看 照片 觉得 还 挺不错 的 ， 又 是 4 星级 的 ， 但 入住 以后 除了 后悔 没...</td>\n",
       "    </tr>\n",
       "    <tr>\n",
       "      <th>2997</th>\n",
       "      <td>我们去盐城的时候那里的最低气温只有4度，晚上冷得要死，居然还不开空调，投诉到酒店客房部，得到...</td>\n",
       "      <td>1</td>\n",
       "      <td>我们 去 盐城 的 时候 那里 的 最低气温 只有 4 度 ， 晚上 冷得 要死 ， 居然 ...</td>\n",
       "    </tr>\n",
       "    <tr>\n",
       "      <th>2998</th>\n",
       "      <td>说实在的我很失望，之前看了其他人的点评后觉得还可以才去的，结果让我们大跌眼镜。我想这家酒店以...</td>\n",
       "      <td>1</td>\n",
       "      <td>说 实在 的 我 很 失望 ， 之前 看 了 其他人 的 点评 后 觉得 还 可以 才 去 ...</td>\n",
       "    </tr>\n",
       "  </tbody>\n",
       "</table>\n",
       "<p>5998 rows × 3 columns</p>\n",
       "</div>"
      ],
      "text/plain": [
       "                                                comment  label  \\\n",
       "3901  临海木屋住了两晚，写点自己的感受吧。蜈支洲岛很不错，海水清澈，沙滩白细，景色很美，只是不适合...      0   \n",
       "3902          交通位置很好,服务设施还可以.但价格有点高,可能太原的酒店价格普通比较高的原因吧!      0   \n",
       "3903  房间设施，布置都别致，很有特色，一进屋就不想出来啦，不过就像网友说的因为是木楼隔音很差，楼上...      0   \n",
       "3904  房间别致,有特色。环境一流。因为是木屋隔音很差。补充点评2008年2月29日：最好选2楼(木...      0   \n",
       "3905  观海木楼建筑别致,风景优美,环境幽静,绝佳的度假胜地,8628房间位置极好.只是每天不是24...      0   \n",
       "...                                                 ...    ...   \n",
       "2994  尼斯酒店的几大特点：噪音大、环境差、配置低、服务效率低。如：1、隔壁歌厅的声音闹至午夜3点许...      1   \n",
       "2995  盐城来了很多次，第一次住盐阜宾馆，我的确很失望整个墙壁黑咕隆咚的，好像被烟熏过一样家具非常的...      1   \n",
       "2996  看照片觉得还挺不错的，又是4星级的，但入住以后除了后悔没有别的，房间挺大但空空的，早餐是有但...      1   \n",
       "2997  我们去盐城的时候那里的最低气温只有4度，晚上冷得要死，居然还不开空调，投诉到酒店客房部，得到...      1   \n",
       "2998  说实在的我很失望，之前看了其他人的点评后觉得还可以才去的，结果让我们大跌眼镜。我想这家酒店以...      1   \n",
       "\n",
       "                                             new_review  \n",
       "3901  临海 木屋 住 了 两晚 ， 写 点 自己 的 感受 吧 。 蜈支洲岛 很 不错 ， 海水 ...  \n",
       "3902  交通 位置 很 好 , 服务设施 还 可以 . 但 价格 有点 高 , 可能 太原 的 酒店...  \n",
       "3903  房间 设施 ， 布置 都 别致 ， 很 有 特色 ， 一 进屋 就 不想 出来 啦 ， 不过...  \n",
       "3904  房间 别致 , 有 特色 。 环境 一流 。 因为 是 木屋 隔音 很差 。 补充 点评 2...  \n",
       "3905  观海 木楼 建筑 别致 , 风景优美 , 环境 幽静 , 绝佳 的 度假胜地 , 8628 ...  \n",
       "...                                                 ...  \n",
       "2994  尼斯 酒店 的 几大 特点 ： 噪音 大 、 环境 差 、 配置 低 、 服务 效率 低 。...  \n",
       "2995  盐城 来 了 很 多次 ， 第一次 住 盐阜 宾馆 ， 我 的确 很 失望 整个 墙壁 黑咕...  \n",
       "2996  看 照片 觉得 还 挺不错 的 ， 又 是 4 星级 的 ， 但 入住 以后 除了 后悔 没...  \n",
       "2997  我们 去 盐城 的 时候 那里 的 最低气温 只有 4 度 ， 晚上 冷得 要死 ， 居然 ...  \n",
       "2998  说 实在 的 我 很 失望 ， 之前 看 了 其他人 的 点评 后 觉得 还 可以 才 去 ...  \n",
       "\n",
       "[5998 rows x 3 columns]"
      ]
     },
     "execution_count": 6,
     "metadata": {},
     "output_type": "execute_result"
    }
   ],
   "source": [
    "def func(item):\n",
    "    res = jieba.cut(item)\n",
    "    return \" \".join(res)\n",
    "data[\"new_review\"] = data[\"comment\"].apply(func)\n",
    "data"
   ]
  },
  {
   "cell_type": "code",
   "execution_count": 7,
   "id": "c47bc32f",
   "metadata": {},
   "outputs": [],
   "source": [
    "\"\"\"\n",
    "整理输入集和输出集\n",
    "\"\"\"\n",
    "import sklearn.feature_extraction.text as ft\n",
    "cv = ft.CountVectorizer()\n",
    "bow = cv.fit_transform(data[\"new_review\"])\n",
    "tt = ft.TfidfTransformer()\n",
    "tfidf = tt.fit_transform(bow)"
   ]
  },
  {
   "cell_type": "code",
   "execution_count": 8,
   "id": "e19af05d",
   "metadata": {},
   "outputs": [
    {
     "data": {
      "text/plain": [
       "(5998, 22728)"
      ]
     },
     "execution_count": 8,
     "metadata": {},
     "output_type": "execute_result"
    }
   ],
   "source": [
    "tfidf.shape"
   ]
  },
  {
   "cell_type": "code",
   "execution_count": 9,
   "id": "2e75e2a7",
   "metadata": {},
   "outputs": [],
   "source": [
    "\"\"\"\n",
    "拆分数据集和训练集\n",
    "\"\"\"\n",
    "train_x, test_x, train_y, test_y = ms.train_test_split(\n",
    "    tfidf, data['label'], test_size=0.1, random_state=7)"
   ]
  },
  {
   "cell_type": "code",
   "execution_count": 10,
   "id": "29dd4120",
   "metadata": {},
   "outputs": [
    {
     "name": "stdout",
     "output_type": "stream",
     "text": [
      "0.8560523602041125\n"
     ]
    }
   ],
   "source": [
    "# 拆分训练集和测试集\n",
    "train_x,test_x,train_y,test_y = ms.train_test_split(tfidf,data[\"label\"],test_size=0.1,random_state=7)\n",
    "# 建模\n",
    "model = nb.MultinomialNB()\n",
    "# 做5次交叉验证\n",
    "score = ms.cross_val_score(model,tfidf,data[\"label\"],cv=5,scoring=\"f1_weighted\")\n",
    "print(score.mean())"
   ]
  },
  {
   "cell_type": "code",
   "execution_count": 11,
   "id": "f886f6fb",
   "metadata": {},
   "outputs": [
    {
     "name": "stdout",
     "output_type": "stream",
     "text": [
      "              precision    recall  f1-score   support\n",
      "\n",
      "           0       0.90      0.89      0.90       279\n",
      "           1       0.90      0.92      0.91       321\n",
      "\n",
      "    accuracy                           0.90       600\n",
      "   macro avg       0.90      0.90      0.90       600\n",
      "weighted avg       0.90      0.90      0.90       600\n",
      "\n"
     ]
    }
   ],
   "source": [
    "model.fit(train_x,train_y) # 模型训练\n",
    "pred_test_y = model.predict(test_x)\n",
    "print(sm.classification_report(test_y,pred_test_y))  # 分类报告"
   ]
  },
  {
   "cell_type": "code",
   "execution_count": 12,
   "id": "0834517d",
   "metadata": {},
   "outputs": [
    {
     "name": "stdout",
     "output_type": "stream",
     "text": [
      "[0 1 0 0]\n"
     ]
    }
   ],
   "source": [
    "test_data = [\"这家酒店我非常满意，环境比上家好，空调制冷效果好，整体感觉不错\",\n",
    "            \"地板太脏了，空调还漏水，体验感太差，再也不来了\",\n",
    "            \"空调不太凉，但是早餐还行，服务差了点，整体感觉一般\",\n",
    "            \"我不喜欢这个酒店\"]\n",
    "# jieba分词\n",
    "test_data = pd.Series(test_data)\n",
    "test_data = test_data.apply(func)\n",
    "# 将预测数据转为词频逆文档模型\n",
    "bow_test = cv.transform(test_data) # 磁带模型\n",
    "test_data = tt.transform(bow_test) # 词频逆文档模型\n",
    "pred_test_y = model.predict(test_data)\n",
    "print(pred_test_y)"
   ]
  },
  {
   "cell_type": "code",
   "execution_count": null,
   "id": "0867f568",
   "metadata": {},
   "outputs": [],
   "source": []
  }
 ],
 "metadata": {
  "kernelspec": {
   "display_name": "Python 3 (ipykernel)",
   "language": "python",
   "name": "python3"
  },
  "language_info": {
   "codemirror_mode": {
    "name": "ipython",
    "version": 3
   },
   "file_extension": ".py",
   "mimetype": "text/x-python",
   "name": "python",
   "nbconvert_exporter": "python",
   "pygments_lexer": "ipython3",
   "version": "3.8.8"
  }
 },
 "nbformat": 4,
 "nbformat_minor": 5
}
